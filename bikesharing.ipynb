{
 "cells": [
  {
   "cell_type": "code",
   "execution_count": 221,
   "metadata": {},
   "outputs": [
    {
     "name": "stdout",
     "output_type": "stream",
     "text": [
      "12\n"
     ]
    }
   ],
   "source": [
    "##how many columns\n",
    "import pandas as pd\n",
    "import numpy as np\n",
    "import matplotlib.pyplot as plt\n",
    "import seaborn\n",
    "from datetime import datetime\n",
    "\n",
    "fh = 'train.csv'\n",
    "df = pd.read_csv(fh)\n",
    "\n",
    "print(len(df.columns))"
   ]
  },
  {
   "cell_type": "code",
   "execution_count": 222,
   "metadata": {},
   "outputs": [
    {
     "name": "stdout",
     "output_type": "stream",
     "text": [
      "10886\n"
     ]
    }
   ],
   "source": [
    "##how many rows\n",
    "print(len(df))"
   ]
  },
  {
   "cell_type": "code",
   "execution_count": 223,
   "metadata": {
    "scrolled": true
   },
   "outputs": [
    {
     "name": "stdout",
     "output_type": "stream",
     "text": [
      "datetime       object\n",
      "season          int64\n",
      "holiday         int64\n",
      "workingday      int64\n",
      "weather         int64\n",
      "temp          float64\n",
      "atemp         float64\n",
      "humidity        int64\n",
      "windspeed     float64\n",
      "casual          int64\n",
      "registered      int64\n",
      "count           int64\n",
      "dtype: object\n"
     ]
    }
   ],
   "source": [
    "##what are the datatype\n",
    "print(df.dtypes)"
   ]
  },
  {
   "cell_type": "code",
   "execution_count": 224,
   "metadata": {},
   "outputs": [
    {
     "data": {
      "text/plain": [
       "datetime      0\n",
       "season        0\n",
       "holiday       0\n",
       "workingday    0\n",
       "weather       0\n",
       "temp          0\n",
       "atemp         0\n",
       "humidity      0\n",
       "windspeed     0\n",
       "casual        0\n",
       "registered    0\n",
       "count         0\n",
       "dtype: int64"
      ]
     },
     "execution_count": 224,
     "metadata": {},
     "output_type": "execute_result"
    }
   ],
   "source": [
    "##Are there missing values in each columns\n",
    "df.isnull().sum()\n",
    "##no missing value in each column\n"
   ]
  },
  {
   "cell_type": "code",
   "execution_count": 229,
   "metadata": {},
   "outputs": [
    {
     "data": {
      "text/plain": [
       "<Container object of 24 artists>"
      ]
     },
     "execution_count": 229,
     "metadata": {},
     "output_type": "execute_result"
    },
    {
     "data": {
      "image/png": "[encoded data removed]",
      "text/plain": [
       "<matplotlib.figure.Figure at 0x1a334fc2b0>"
      ]
     },
     "metadata": {},
     "output_type": "display_data"
    }
   ],
   "source": [
    "%matplotlib inline\n",
    "##What hour of a day are bikes rented most?\n",
    "def get_hour(datetime):\n",
    "    return datetime.hour\n",
    "\n",
    "df.datetime = pd.to_datetime(df.datetime)\n",
    "\n",
    "df['hour'] = df['datetime'].apply(get_hour)\n",
    "\n",
    "result = df['count'].groupby(df['hour']).sum()\n",
    "result = result.reset_index().set_index('hour')\n",
    "\n",
    "t1 = result[result==result.max()]\n",
    "t2 = result[result<result.max()]\n",
    "\n",
    "plt.bar(t1.index, t1['count'], color='r')\n",
    "plt.bar(t2.index, t2['count'], color='g')\n",
    "\n",
    "\n",
    "#langs =    result.index\n",
    "#langperf = result \n",
    "#y_pos = np.arange(len(langs))\n",
    "\n",
    "#plt.bar(y_pos, langperf, align='center', alpha=0.5)\n",
    "#plt.xticks(y_pos, langs)\n",
    "##plt.ylabel('Usage')\n",
    "#plt.title('complaints_per_year')\n",
    "#plt.savefig('complaints_per_year.png')\n",
    "   "
   ]
  },
  {
   "cell_type": "code",
   "execution_count": 230,
   "metadata": {},
   "outputs": [
    {
     "data": {
      "text/plain": [
       "<matplotlib.axes._subplots.AxesSubplot at 0x1a335074e0>"
      ]
     },
     "execution_count": 230,
     "metadata": {},
     "output_type": "execute_result"
    },
    {
     "data": {
      "image/png": "[encoded data removed]",
      "text/plain": [
       "<matplotlib.figure.Figure at 0x1a301b2860>"
      ]
     },
     "metadata": {},
     "output_type": "display_data"
    }
   ],
   "source": [
    "%matplotlib inline\n",
    "#At what season and what hour of a day are bikes rented most?\n",
    "result_season_hour = df.groupby([df['hour'],df['season']]).sum()['count'].to_frame()\n",
    "\n",
    "\n",
    "\n",
    "data = result_season_hour['count']\n",
    "\n",
    "data.unstack().plot(kind='bar', stacked=False)\n",
    "       \n",
    "        \n",
    "#plt.bar(result_season_hour.index, result_season_hour.index.values)"
   ]
  },
  {
   "cell_type": "code",
   "execution_count": 231,
   "metadata": {},
   "outputs": [
    {
     "data": {
      "text/plain": [
       "<matplotlib.axes._subplots.AxesSubplot at 0x1a30268ef0>"
      ]
     },
     "execution_count": 231,
     "metadata": {},
     "output_type": "execute_result"
    },
    {
     "data": {
      "image/png": "[encoded data removed]",
      "text/plain": [
       "<matplotlib.figure.Figure at 0x1a30428ac8>"
      ]
     },
     "metadata": {},
     "output_type": "display_data"
    }
   ],
   "source": [
    "%matplotlib inline\n",
    "##At which month and what hour of a day are bikes rented most?\n",
    "\n",
    "def get_month(datetime):\n",
    "    return datetime.month\n",
    "\n",
    "df['month'] = df['datetime'].apply(get_month)\n",
    "\n",
    "result_month_hour = df.groupby([df['hour'],df['month']]).sum()['count']\n",
    "\n",
    "\n",
    "result_month_hour.unstack().plot(kind='bar', stacked=False)\n"
   ]
  },
  {
   "cell_type": "code",
   "execution_count": 232,
   "metadata": {},
   "outputs": [
    {
     "data": {
      "text/plain": [
       "<Container object of 455 artists>"
      ]
     },
     "execution_count": 232,
     "metadata": {},
     "output_type": "execute_result"
    },
    {
     "data": {
      "image/png": "[encoded data removed]",
      "text/plain": [
       "<matplotlib.figure.Figure at 0x1a32416518>"
      ]
     },
     "metadata": {},
     "output_type": "display_data"
    }
   ],
   "source": [
    "%matplotlib inline\n",
    "#Which date have the most rented bikes in the dataset?\n",
    "\n",
    "def get_date(datetime):\n",
    "    return datetime.date()\n",
    "df['date'] = df['datetime'].apply(get_date)\n",
    "result = df.groupby(df['date']).sum()['count']\n",
    "\n",
    "t1 = result[result==result.max()]\n",
    "t2 = result[result<result.max()]\n",
    "\n",
    "plt.bar(t1.index, t1, color='r')\n",
    "plt.bar(t2.index, t2, color='g')\n",
    "\n"
   ]
  },
  {
   "cell_type": "code",
   "execution_count": null,
   "metadata": {
    "collapsed": true
   },
   "outputs": [],
   "source": []
  }
 ],
 "metadata": {
  "kernelspec": {
   "display_name": "Python 3",
   "language": "python",
   "name": "python3"
  },
  "language_info": {
   "codemirror_mode": {
    "name": "ipython",
    "version": 3
   },
   "file_extension": ".py",
   "mimetype": "text/x-python",
   "name": "python",
   "nbconvert_exporter": "python",
   "pygments_lexer": "ipython3",
   "version": "3.6.3"
  }
 },
 "nbformat": 4,
 "nbformat_minor": 2
}
